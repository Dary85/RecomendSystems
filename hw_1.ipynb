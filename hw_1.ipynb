{
 "cells": [
  {
   "cell_type": "markdown",
   "metadata": {},
   "source": [
    "1. Сравните метрики hit_rate@k, precision@k.   \n",
    "Какую метрику использовать предпочтительно и почему?  \n",
    "Приведите пример 2-3 задач (опишите, что является клиентом, что товаром), в которой более уместно использовать метрику hit_rate?\n"
   ]
  },
  {
   "cell_type": "markdown",
   "metadata": {},
   "source": [
    "hit_rate@k - был \"куплен\" товар из k релевантных товаров, precision@k - сколько из предложенных k позиций были купленными\n",
    "hit_rate@k - предподчительно использовать когда есть набор релевантных товаров, например при рекомендации пользовотелю новостей по ключевым словам\n",
    "precision@k - например рекомендация приобретения товаров из списка \"с этим товаром часто покупают\"\n"
   ]
  },
  {
   "cell_type": "markdown",
   "metadata": {},
   "source": [
    "2. В метрике NDCG@k мы используем логарифм в знаменателе. Как Вы думаете, почему именно логарифм? Какую функцию можно использовать вместо логарифма? Привидите пример метрик/подходов к предобработке данных/функций ошибок в ML, где также в  логарифм.\n",
    "\n"
   ]
  },
  {
   "cell_type": "markdown",
   "metadata": {},
   "source": [
    "Как Вы думаете, почему именно логарифм? Логарифм растет постепенно. \n",
    "Какую функцию можно использовать вместо логарифма?  просто делить на i\n",
    "Привидите пример метрик/подходов к предобработке данных/функций ошибок в ML, где также в  логарифм. - Log Loss логистической функции ошибки\n"
   ]
  },
  {
   "cell_type": "markdown",
   "metadata": {},
   "source": [
    "3. Какие еще метрики (Вы можете вспомнить уже пройденные Вами или посмотреть в интернете) могут использоваться для рекомендательных систем (приведите примеры метрики **и чем являются интеракции**, чтобы она могла быть использована)."
   ]
  },
  {
   "cell_type": "markdown",
   "metadata": {},
   "source": [
    "ERR - метрика используетсяпри моделировании действий пользователя в поисковых системах.\n",
    "Модель которая предполагает единственный документ удовлетворяющий результату поиска. \n",
    "Предполагается, что пользователь поочередно просматривает ранжированны результат поиска\n",
    "и отмечает удовлетворяет ли документ поиску, если да, то поиск останавливается."
   ]
  },
  {
   "cell_type": "markdown",
   "metadata": {},
   "source": [
    "4. boughted = [1, 3, 5, 7, 9, 11]  \n",
    "recommended = [2, 5, 7, 4, 11, 9, 8, 10, 12, 3]  \n",
    "Посчитайте на этих данных pr@8, rec@8, AP@8, NDCG@8, MRR@8,  \n",
    "Сначала поссчитайет \"руками\", а затем подтвердите рассчеты с помощью функций (некоторые были на семинаре, некоторые нужно будут написать самостоятельно)\n",
    "\n",
    "IDCG должен считаться для всех 8 позиций рекомендаций"
   ]
  },
  {
   "cell_type": "code",
   "execution_count": 1,
   "metadata": {},
   "outputs": [
    {
     "name": "stdout",
     "output_type": "stream",
     "text": [
      "pr@8 = 0.5\n"
     ]
    }
   ],
   "source": [
    "import numpy as np\n",
    "\n",
    "boughted = [1, 3, 5, 7, 9, 11] \n",
    "recommended = [2, 5, 7, 4, 11, 9, 8, 10, 12, 3] \n",
    "#pr@8 = (0+0+1+1+1+1+0+0)/(1+1+1+1+1+1+1+1) = 50%\n",
    "\n",
    "def precision_at_k(recommended_list, bought_list, k=5):\n",
    "    \n",
    "    bought_list = np.array(bought_list)\n",
    "    recommended_list = np.array(recommended_list)\n",
    "    \n",
    "    bought_list = bought_list  # Тут нет [:k] !!\n",
    "    recommended_list = recommended_list[:k]\n",
    "    \n",
    "    flags = np.isin(bought_list, recommended_list)\n",
    "    precision = flags.sum() / len(recommended_list)\n",
    "    \n",
    "    \n",
    "    return precision\n",
    "print(f\"pr@8 = {precision_at_k(recommended, boughted, 8)}\")"
   ]
  },
  {
   "cell_type": "code",
   "execution_count": 2,
   "metadata": {},
   "outputs": [
    {
     "name": "stdout",
     "output_type": "stream",
     "text": [
      "rec@8 = 0.6666666666666666\n"
     ]
    }
   ],
   "source": [
    "#rec@8 = (0+0+1+1+1+1+0+0)/6= 66,66%\n",
    "\n",
    "def recall_at_k(recommended_list, bought_list, k=5):\n",
    "    bought_list = np.array(bought_list)\n",
    "    recommended_list = np.array(recommended_list)[:k]\n",
    "    \n",
    "    flags = np.isin(bought_list, recommended_list)\n",
    "    \n",
    "    recall = flags.sum() / len(bought_list)\n",
    "    \n",
    "    return recall\n",
    "print(f\"rec@8 = {recall_at_k(recommended, boughted, 8)}\")"
   ]
  },
  {
   "cell_type": "code",
   "execution_count": 3,
   "metadata": {},
   "outputs": [
    {
     "name": "stdout",
     "output_type": "stream",
     "text": [
      "AP@8 = 0.24333333333333332\n"
     ]
    }
   ],
   "source": [
    "#AP@8 = 1/2+2/3+2/5+4/6 = (8/5)/10*100 = 24%\n",
    "\n",
    "def ap_k(recommended_list, bought_list, k=5):\n",
    "    \n",
    "    bought_list = np.array(bought_list)\n",
    "    recommended_list = np.array(recommended_list)\n",
    "    \n",
    "    flags = np.isin(recommended_list, bought_list)\n",
    "    \n",
    "    if sum(flags) == 0:\n",
    "        return 0\n",
    "    \n",
    "    sum_ = 0\n",
    "    for i in range(1, k+1): \n",
    "        if flags[i-1] == True: # в уроке стоит просто i, не поняла почему? массив начинается с 0\n",
    "            p_k = precision_at_k(recommended_list, bought_list, k=i)\n",
    "            sum_ += p_k\n",
    "            \n",
    "    result = sum_ / len(flags)\n",
    "    \n",
    "    return result\n",
    "print(f\"AP@8 = {ap_k(recommended, boughted, 8)}\")\n"
   ]
  },
  {
   "cell_type": "code",
   "execution_count": 4,
   "metadata": {},
   "outputs": [
    {
     "name": "stdout",
     "output_type": "stream",
     "text": [
      "dcg@8 = 0.306057389859924\n",
      "ndcg@8 = 0.527912744563727\n"
     ]
    }
   ],
   "source": [
    "boughted = [1, 3, 5, 7, 9, 11] \n",
    "recommended = [2, 5, 7, 4, 11, 9, 8, 10, 12, 3] \n",
    "#NDCG@8 = 1/8∗(0/1+1/𝑙𝑜𝑔(2)+1/𝑙𝑜𝑔(3)+0/𝑙𝑜𝑔(4)+1/𝑙𝑜𝑔(5)+1/log(6)+0/log(7)+0/log(8))/\n",
    "#         1/8∗(1/1+1/𝑙𝑜𝑔(2)+1/𝑙𝑜𝑔(3)+1/𝑙𝑜𝑔(4)+1/𝑙𝑜𝑔(5)+1/log(6)+1/log(7)+1/log(8))  = 0,52\n",
    "import math\n",
    "\n",
    "def dcg_k(recommended_list, bought_list, k=5):\n",
    "   \n",
    "    bought_list = np.array(bought_list)\n",
    "    recommended_list = np.array(recommended_list)\n",
    "    flags = np.isin(recommended_list,bought_list)\n",
    "    \n",
    "    if sum(flags) == 0 or k==0:\n",
    "        return 0\n",
    "        \n",
    "    summary = 0\n",
    "    \n",
    "    for i in range(1,k+1):\n",
    "        if flags[i-1]:\n",
    "            summary += 1/(1 if i==1 else math.log(i,2) )  \n",
    "    \n",
    "    return summary/k\n",
    "                          \n",
    "print(f\"dcg@8 = {dcg_k(recommended, boughted, 8)}\")\n",
    "    \n",
    "def ndcg_k(recommended_list, bought_list, k=5, kideal=5):\n",
    "    \n",
    "    bought_list = np.array(bought_list)\n",
    "    recommended_list = np.array(recommended_list)\n",
    "    bought_list_ideal = np.array(recommended_list[:kideal])\n",
    "    \n",
    "    dcg = dcg_k(recommended_list, bought_list, k)\n",
    "    dcg_ideal = dcg_k(recommended_list, bought_list_ideal, kideal)\n",
    "    \n",
    "    if dcg_ideal==0:\n",
    "        return 0\n",
    "    \n",
    "    return dcg/dcg_ideal\n",
    "\n",
    "print(f\"ndcg@8 = {ndcg_k(recommended, boughted, 8,8)}\")   \n",
    "    "
   ]
  },
  {
   "cell_type": "code",
   "execution_count": 5,
   "metadata": {},
   "outputs": [
    {
     "name": "stdout",
     "output_type": "stream",
     "text": [
      "MRR@8 = 0.12\n"
     ]
    }
   ],
   "source": [
    "#MRR@8\n",
    "def reciprocal_rank(recommended_list, bought_list,k=5):\n",
    "    ranks=0.\n",
    "    for i, item_rec in enumerate(recommended_list[:k]):\n",
    "        for item_bought in bought_list[:min(len(bought_list),k)]:\n",
    "            if item_rec == item_bought:\n",
    "                ranks += 1 / (i+1)\n",
    "    return ranks / len(recommended_list)\n",
    "\n",
    "print(f\"MRR@8 = {reciprocal_rank(recommended, boughted,8)}\")   \n"
   ]
  },
  {
   "cell_type": "code",
   "execution_count": null,
   "metadata": {},
   "outputs": [],
   "source": []
  }
 ],
 "metadata": {
  "kernelspec": {
   "display_name": "Python 3",
   "language": "python",
   "name": "python3"
  },
  "language_info": {
   "codemirror_mode": {
    "name": "ipython",
    "version": 3
   },
   "file_extension": ".py",
   "mimetype": "text/x-python",
   "name": "python",
   "nbconvert_exporter": "python",
   "pygments_lexer": "ipython3",
   "version": "3.7.6"
  }
 },
 "nbformat": 4,
 "nbformat_minor": 2
}
