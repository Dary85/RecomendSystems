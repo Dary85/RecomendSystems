{
 "cells": [
  {
   "cell_type": "markdown",
   "metadata": {},
   "source": [
    "Задание 2. Расчет метрик\n",
    "Рассчитайте Precision@5 для каждого алгоритма (с вебинара и weighted_random_recommendation) с помощью функции из вебинара 1. Какой алгоритм показывает лучшее качество? Почему?"
   ]
  },
  {
   "cell_type": "code",
   "execution_count": null,
   "metadata": {},
   "outputs": [],
   "source": [
    "Результат precision:\n",
    "popular_recommendation - 0.15523996082272082\n",
    "random_recommendation - 9.794319294809012e-05\n",
    "weighted_random_recommendation - 0.00039177277179236047\n",
    "itemitem (без 999999) - 0.1370225269343766 \n",
    "cosine (без 999999)-0.0.13437806072477818\n",
    "tfidf - 0.13947110675807867\n",
    "Лучший результат показал popular_recommendation. Судя по всему, потому что все алгоритмы в основу берут \n",
    "список самых популярных товаров\n"
   ]
  }
 ],
 "metadata": {
  "kernelspec": {
   "display_name": "Python 3",
   "language": "python",
   "name": "python3"
  },
  "language_info": {
   "codemirror_mode": {
    "name": "ipython",
    "version": 3
   },
   "file_extension": ".py",
   "mimetype": "text/x-python",
   "name": "python",
   "nbconvert_exporter": "python",
   "pygments_lexer": "ipython3",
   "version": "3.7.6"
  }
 },
 "nbformat": 4,
 "nbformat_minor": 4
}
